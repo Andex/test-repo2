{
 "cells": [
  {
   "cell_type": "markdown",
   "metadata": {},
   "source": [
    "Данное домашнее задание посвящено схеме базе данных, связанной с футбольным командами. Схема расположена в hw_diagram.jpg\n",
    "## Описание таблиц \n",
    "\n",
    "### Positions \n",
    "Позиции игроков\n",
    "id - уникальный идентификатор позиции \n",
    "Name - Название таблицы \n",
    "\n",
    "### Coaches \n",
    "Таблица тренеров \n",
    "id - уникальный идентификатор тренера\n",
    "Name - имя тренера \n",
    "\n",
    "## Teams \n",
    "Таблица команд \n",
    "id - уникальный идентификатор  команды \n",
    "Name - имя команды \n",
    "Location - расположение команды \n",
    "Coach_id - идентификатор тренера \n",
    "\n",
    "### Players \n",
    "Таблица игроков \n",
    "Id - уникальный идентификатор игрока \n",
    "Name - имя игрока \n",
    "Age - возраст игрока \n",
    "Position_id - идентификатор позиции \n",
    "Team_id - идентификатор команды \n",
    "Start_date - дата начала игры в команде \n",
    "\n",
    "### PlayersArchive \n",
    "Архив по игрокам (информация о том, в какой команде игрок играл ранее) \n",
    "player_id - идентификатор игрока \n",
    "team_id - идентификатор команды \n",
    "start_date - дата начала игры \n",
    "end_date - дата окончания игры"
   ]
  },
  {
   "cell_type": "markdown",
   "metadata": {},
   "source": [
    "# Задание 1\n",
    "Реализовать перенакатываемые sql-скрипты по схеме hw_diagram, приложенного ниже."
   ]
  },
  {
   "cell_type": "code",
   "execution_count": 13,
   "metadata": {
    "collapsed": false
   },
   "outputs": [
    {
     "data": {
      "text/plain": [
       "'Connected: None@football.db'"
      ]
     },
     "execution_count": 13,
     "metadata": {},
     "output_type": "execute_result"
    }
   ],
   "source": [
    "%reload_ext sql\n",
    "%sql sqlite:///football.db"
   ]
  },
  {
   "cell_type": "code",
   "execution_count": 14,
   "metadata": {
    "collapsed": true
   },
   "outputs": [],
   "source": [
    "import sqlite3"
   ]
  },
  {
   "cell_type": "code",
   "execution_count": 15,
   "metadata": {
    "collapsed": false
   },
   "outputs": [
    {
     "name": "stdout",
     "output_type": "stream",
     "text": [
      "Done.\n",
      "0 rows affected.\n",
      "0 rows affected.\n",
      "0 rows affected.\n",
      "0 rows affected.\n",
      "0 rows affected.\n",
      "0 rows affected.\n",
      "0 rows affected.\n",
      "0 rows affected.\n",
      "0 rows affected.\n",
      "0 rows affected.\n"
     ]
    },
    {
     "data": {
      "text/plain": [
       "[]"
      ]
     },
     "execution_count": 15,
     "metadata": {},
     "output_type": "execute_result"
    }
   ],
   "source": [
    "%%sql\n",
    "pragma foreign_key=ON;\n",
    "drop table if exists players_arсhive;\n",
    "drop table if exists players;\n",
    "drop table if exists teams;\n",
    "drop table if exists position;\n",
    "drop table if exists coaches;\n",
    "create table coaches(id integer primary key, name text);\n",
    "\n",
    "create table position(id integer primary key, name text);\n",
    "\n",
    "create table teams(id integer primary key, name text, location text, coach_id integer, foreign key(coach_id) references coaches(id));\n",
    "\n",
    "create table players(id integer primary key, name text, age integer, team_id integer, position_id integer, start_date data,\n",
    "                        foreign key(team_id) references teams(id), foreign key(position_id) references position(id));\n",
    "\n",
    "create table players_arсhive(player_id integer, team_id integer, start_date data, end_date data,\n",
    "    foreign key(player_id) references players(id), foreign key(team_id) references teams(id), primary key(player_id, team_id));"
   ]
  },
  {
   "cell_type": "code",
   "execution_count": 16,
   "metadata": {
    "collapsed": false
   },
   "outputs": [
    {
     "name": "stdout",
     "output_type": "stream",
     "text": [
      "Done.\n"
     ]
    },
    {
     "data": {
      "text/html": [
       "<table>\n",
       "    <tr>\n",
       "        <th>player_id</th>\n",
       "        <th>team_id</th>\n",
       "        <th>start_date</th>\n",
       "        <th>end_date</th>\n",
       "    </tr>\n",
       "</table>"
      ],
      "text/plain": [
       "[]"
      ]
     },
     "execution_count": 16,
     "metadata": {},
     "output_type": "execute_result"
    }
   ],
   "source": [
    "%sql select * from players_arсhive"
   ]
  },
  {
   "cell_type": "markdown",
   "metadata": {},
   "source": [
    "# Задание 2\n",
    "Написать sql-скрипт, осуществляюший добавление всех возможных позиций игроков. (В данной задаче можно ограничится четырьмя - вратарь, защитник, полузащитник, нападающий)"
   ]
  },
  {
   "cell_type": "code",
   "execution_count": 17,
   "metadata": {
    "collapsed": false
   },
   "outputs": [
    {
     "name": "stdout",
     "output_type": "stream",
     "text": [
      "1 rows affected.\n",
      "1 rows affected.\n",
      "1 rows affected.\n",
      "1 rows affected.\n"
     ]
    },
    {
     "data": {
      "text/plain": [
       "[]"
      ]
     },
     "execution_count": 17,
     "metadata": {},
     "output_type": "execute_result"
    }
   ],
   "source": [
    "%%sql\n",
    "Insert into position values (10, 'вратарь');\n",
    "Insert into position values (20, 'защитник');\n",
    "Insert into position values (30, 'полузащитник');\n",
    "Insert into position values (40, 'нападающий');"
   ]
  },
  {
   "cell_type": "code",
   "execution_count": 18,
   "metadata": {
    "collapsed": false
   },
   "outputs": [
    {
     "name": "stdout",
     "output_type": "stream",
     "text": [
      "Done.\n"
     ]
    },
    {
     "data": {
      "text/html": [
       "<table>\n",
       "    <tr>\n",
       "        <th>id</th>\n",
       "        <th>name</th>\n",
       "    </tr>\n",
       "    <tr>\n",
       "        <td>10</td>\n",
       "        <td>вратарь</td>\n",
       "    </tr>\n",
       "    <tr>\n",
       "        <td>20</td>\n",
       "        <td>защитник</td>\n",
       "    </tr>\n",
       "    <tr>\n",
       "        <td>30</td>\n",
       "        <td>полузащитник</td>\n",
       "    </tr>\n",
       "    <tr>\n",
       "        <td>40</td>\n",
       "        <td>нападающий</td>\n",
       "    </tr>\n",
       "</table>"
      ],
      "text/plain": [
       "[(10, 'вратарь'), (20, 'защитник'), (30, 'полузащитник'), (40, 'нападающий')]"
      ]
     },
     "execution_count": 18,
     "metadata": {},
     "output_type": "execute_result"
    }
   ],
   "source": [
    "%sql select * from position"
   ]
  },
  {
   "cell_type": "markdown",
   "metadata": {},
   "source": [
    "# Задание 3\n",
    "Написать функцию, осуществляющую добавление тренера. На вход функции подается имя тренера. При невозможности вставки функция должна обработать данное исключение и вывести пользователю информацию о проблеме\n",
    "\n",
    "После написания функции необходимо добавить несколько тренеров для таблицы."
   ]
  },
  {
   "cell_type": "code",
   "execution_count": 19,
   "metadata": {
    "collapsed": false
   },
   "outputs": [],
   "source": [
    "db=sqlite3.connect('football.db')\n",
    "def check_coach(name1):\n",
    "    cur1=db.cursor()\n",
    "    cur1.execute(''' select id from coaches where name=?''', (name1,))\n",
    "    try:\n",
    "        coa_id=cur1.fetchone()[0]\n",
    "        print ('Такой тренер уже есть')\n",
    "        return -1\n",
    "    except TypeError:\n",
    "        print ('Добавлено')\n",
    "        return 1\n",
    "\n",
    "\n",
    "def insert_coach(name_coach):\n",
    "    coach_id=check_coach(name_coach)\n",
    "    if coach_id==-1:\n",
    "        return -1\n",
    "    else:\n",
    "        cur2=db.cursor()\n",
    "        cur2.execute(''' select coalesce(max(id)+1,1) as new_id from coaches ''')\n",
    "        new_id=cur2.fetchone()[0]\n",
    "        cur2.execute(''' insert into coaches(id, name) values (?,?) ''', (new_id, name_coach,))\n",
    "db.commit()"
   ]
  },
  {
   "cell_type": "code",
   "execution_count": 20,
   "metadata": {
    "collapsed": false
   },
   "outputs": [
    {
     "name": "stdout",
     "output_type": "stream",
     "text": [
      "Добавлено\n",
      "Такой тренер уже есть\n",
      "Добавлено\n",
      "Добавлено\n"
     ]
    }
   ],
   "source": [
    "insert_coach('Фред Грим')\n",
    "insert_coach('Фред Грим')\n",
    "insert_coach('С.С.Черчесов')\n",
    "insert_coach('Тите')"
   ]
  },
  {
   "cell_type": "code",
   "execution_count": 21,
   "metadata": {
    "collapsed": false
   },
   "outputs": [
    {
     "name": "stdout",
     "output_type": "stream",
     "text": [
      "Done.\n"
     ]
    },
    {
     "data": {
      "text/html": [
       "<table>\n",
       "    <tr>\n",
       "        <th>id</th>\n",
       "        <th>name</th>\n",
       "    </tr>\n",
       "</table>"
      ],
      "text/plain": [
       "[]"
      ]
     },
     "execution_count": 21,
     "metadata": {},
     "output_type": "execute_result"
    }
   ],
   "source": [
    "%sql select * from coaches"
   ]
  },
  {
   "cell_type": "markdown",
   "metadata": {},
   "source": [
    "# Задание 4\n",
    "\n",
    "Написать функцию, осуществляющую добавление команды. На вход функция принимает (имя команды, местоположение, имя тренера).\n",
    "На выходе должна быть добавлена команда.\n",
    "\n",
    "После написания функции необходимо добавить несколько команд"
   ]
  },
  {
   "cell_type": "code",
   "execution_count": 22,
   "metadata": {
    "collapsed": false
   },
   "outputs": [],
   "source": [
    "def insert_team(team_name, its_loc, its_coache):\n",
    "    cur4=db.cursor()\n",
    "    cur4.execute(''' select coalesce(max(id)+1,1) as new_id from teams ''')\n",
    "    new_id=cur4.fetchone()[0]\n",
    "    cur4.execute(''' insert into teams(id, name, location, coach_id) values (?,?,?,?) ''', (new_id, team_name, its_loc, its_coache))\n",
    "db.commit()"
   ]
  },
  {
   "cell_type": "code",
   "execution_count": 23,
   "metadata": {
    "collapsed": false
   },
   "outputs": [],
   "source": [
    "insert_team('Сборная России', 'Россия', 'С.С.Черчесов')\n",
    "insert_team('Сборная Голландии', 'Нидерланды', 'Фред Грим')\n",
    "insert_team('Сборная Бразилии', 'Бразилия', 'Тите')"
   ]
  },
  {
   "cell_type": "code",
   "execution_count": 24,
   "metadata": {
    "collapsed": false
   },
   "outputs": [
    {
     "name": "stdout",
     "output_type": "stream",
     "text": [
      "Done.\n"
     ]
    },
    {
     "data": {
      "text/html": [
       "<table>\n",
       "    <tr>\n",
       "        <th>id</th>\n",
       "        <th>name</th>\n",
       "        <th>location</th>\n",
       "        <th>coach_id</th>\n",
       "    </tr>\n",
       "</table>"
      ],
      "text/plain": [
       "[]"
      ]
     },
     "execution_count": 24,
     "metadata": {},
     "output_type": "execute_result"
    }
   ],
   "source": [
    "%sql select * from teams"
   ]
  },
  {
   "cell_type": "markdown",
   "metadata": {},
   "source": [
    "# Задание 5\n",
    "\n",
    "Написать функцию, осуществляющую обновление информации о команде. У функции на входе должен быть один обязательный параметр - название команды и два необязательных параметра - имя тренера и местоположение. При этом хотя бы один из необязательных параметров должен быть заполнен. Функция должна обновлять значение переданных необязательных параметров.\n",
    "\n",
    "После написания функции вызовите данную функцию несколько раз"
   ]
  },
  {
   "cell_type": "code",
   "execution_count": 25,
   "metadata": {
    "collapsed": true
   },
   "outputs": [],
   "source": [
    "def check_team(name1):\n",
    "    cur1=db.cursor()\n",
    "    cur1.execute(''' select id from teams where name=?''', (name1,))\n",
    "    try:\n",
    "        t_id=cur1.fetchone()[0]\n",
    "        return t_id\n",
    "    except TypeError:\n",
    "        print ('Нет такой команды')\n",
    "        return -1\n",
    "\n",
    "\n",
    "def update_teams_location(name_team, its_loc):\n",
    "    try_team_id=check_team(name_team)\n",
    "    if try_team_id==-1:\n",
    "        return -1\n",
    "    cur=db.cursor()\n",
    "    cur.execute(''' update teams set location=? where name=?''', (its_loc, name_team,))\n",
    "db.commit()"
   ]
  },
  {
   "cell_type": "code",
   "execution_count": 26,
   "metadata": {
    "collapsed": false
   },
   "outputs": [],
   "source": [
    "update_teams_location('Сборная Голландии', 'Голландия')\n",
    "update_teams_location('Сборная России', 'РФ')"
   ]
  },
  {
   "cell_type": "code",
   "execution_count": 27,
   "metadata": {
    "collapsed": false
   },
   "outputs": [
    {
     "name": "stdout",
     "output_type": "stream",
     "text": [
      "Done.\n"
     ]
    },
    {
     "data": {
      "text/html": [
       "<table>\n",
       "    <tr>\n",
       "        <th>id</th>\n",
       "        <th>name</th>\n",
       "        <th>location</th>\n",
       "        <th>coach_id</th>\n",
       "    </tr>\n",
       "    <tr>\n",
       "        <td>1</td>\n",
       "        <td>Сборная России</td>\n",
       "        <td>Россия</td>\n",
       "        <td>С.С.Черчесов</td>\n",
       "    </tr>\n",
       "    <tr>\n",
       "        <td>2</td>\n",
       "        <td>Сборная Голландии</td>\n",
       "        <td>Нидерланды</td>\n",
       "        <td>Фред Грим</td>\n",
       "    </tr>\n",
       "    <tr>\n",
       "        <td>3</td>\n",
       "        <td>Сборная Бразилии</td>\n",
       "        <td>Бразилия</td>\n",
       "        <td>Тите</td>\n",
       "    </tr>\n",
       "</table>"
      ],
      "text/plain": [
       "[(1, 'Сборная России', 'Россия', 'С.С.Черчесов'),\n",
       " (2, 'Сборная Голландии', 'Нидерланды', 'Фред Грим'),\n",
       " (3, 'Сборная Бразилии', 'Бразилия', 'Тите')]"
      ]
     },
     "execution_count": 27,
     "metadata": {},
     "output_type": "execute_result"
    }
   ],
   "source": [
    "%sql select * from teams"
   ]
  },
  {
   "cell_type": "markdown",
   "metadata": {},
   "source": [
    "# Задание 6\n",
    "\n",
    "Написать функцию, осуществляющую добавление нового футболиста в таблицу игроков. На входе (имя, возраст, название позиции, название команды, дата перехода в команду(необязательный параметр)). Если дата перехода не указана, то нужно использовать текущую дату. Предусмотреть различные ошибки (такие как неверное имя позиции, неверное название команды, возраст < 10 и > 50 и т.п.)\n",
    "\n",
    "После написания функции необходимо добавить несколько игроков."
   ]
  },
  {
   "cell_type": "code",
   "execution_count": 28,
   "metadata": {
    "collapsed": false
   },
   "outputs": [],
   "source": [
    "def check_player(name1):\n",
    "    cur1=db.cursor()\n",
    "    cur1.execute(''' select id from players where name=?''', (name1,))\n",
    "    try:\n",
    "        pl_id=cur1.fetchone()[0]\n",
    "        return pl_id\n",
    "    except TypeError:\n",
    "        print ('Добавление')\n",
    "        return -1\n",
    "\n",
    "def check_team(name2):\n",
    "    cur2=db.cursor()\n",
    "    cur2.execute(''' select id from teams where id=?''', (name2,))\n",
    "    try:\n",
    "        t_id=cur2.fetchone()[0]\n",
    "        return t_id\n",
    "    except TypeError:\n",
    "        print ('Нет такой команды')\n",
    "        return -1\n",
    "    \n",
    "def check_position(name3):\n",
    "    cur3=db.cursor()\n",
    "    cur3.execute(''' select id from position where id=?''', (name3,))\n",
    "    try:\n",
    "        p_id=cur3.fetchone()[0]\n",
    "        return p_id\n",
    "    except TypeError:\n",
    "        print ('Нет такой позиции')\n",
    "        return -1    \n",
    "    \n",
    "def insert_player(player_name, age, teamId, positionId, date):\n",
    "    cur=db.cursor()\n",
    "    player_id=check_player(player_name)\n",
    "    team_id=check_team(teamId)\n",
    "    position_id=check_position(positionId)\n",
    "    if (player_id!=-1 and team_id==-1 and position_id==-1 or age>50 or age<10):\n",
    "        print('Ошибка')\n",
    "        return -1\n",
    "    cur.execute(''' select coalesce(max(id)+1,1) as new_id from teams ''')\n",
    "    new_id=cur.fetchone()[0]\n",
    "    cur.execute(''' insert into players(id, name, age, team_id, position_id, start_date) values (?,?,?,?,?,?)''', (new_id, player_name, age, team_id, position_id, date))\n",
    "    db.commit()"
   ]
  },
  {
   "cell_type": "code",
   "execution_count": 29,
   "metadata": {
    "collapsed": false
   },
   "outputs": [
    {
     "name": "stdout",
     "output_type": "stream",
     "text": [
      "Добавление\n",
      "Ошибка\n",
      "Добавление\n",
      "Добавление\n"
     ]
    },
    {
     "ename": "IntegrityError",
     "evalue": "UNIQUE constraint failed: players.id",
     "output_type": "error",
     "traceback": [
      "\u001b[1;31m---------------------------------------------------------------------------\u001b[0m",
      "\u001b[1;31mIntegrityError\u001b[0m                            Traceback (most recent call last)",
      "\u001b[1;32m<ipython-input-29-14bc5e4c3610>\u001b[0m in \u001b[0;36m<module>\u001b[1;34m()\u001b[0m\n\u001b[0;32m      1\u001b[0m \u001b[0minsert_player\u001b[0m\u001b[1;33m(\u001b[0m\u001b[1;34m'Пеле'\u001b[0m\u001b[1;33m,\u001b[0m \u001b[1;36m76\u001b[0m\u001b[1;33m,\u001b[0m \u001b[1;36m3\u001b[0m\u001b[1;33m,\u001b[0m \u001b[1;36m40\u001b[0m\u001b[1;33m,\u001b[0m \u001b[1;34m'1957-04-10'\u001b[0m\u001b[1;33m)\u001b[0m\u001b[1;33m\u001b[0m\u001b[0m\n\u001b[0;32m      2\u001b[0m \u001b[0minsert_player\u001b[0m\u001b[1;33m(\u001b[0m\u001b[1;34m'Паулиньо'\u001b[0m\u001b[1;33m,\u001b[0m \u001b[1;36m28\u001b[0m\u001b[1;33m,\u001b[0m \u001b[1;36m3\u001b[0m\u001b[1;33m,\u001b[0m \u001b[1;36m30\u001b[0m\u001b[1;33m,\u001b[0m \u001b[1;34m'2011-09-15'\u001b[0m\u001b[1;33m)\u001b[0m\u001b[1;33m\u001b[0m\u001b[0m\n\u001b[1;32m----> 3\u001b[1;33m \u001b[0minsert_player\u001b[0m\u001b[1;33m(\u001b[0m\u001b[1;34m'Велтман'\u001b[0m\u001b[1;33m,\u001b[0m \u001b[1;36m25\u001b[0m\u001b[1;33m,\u001b[0m \u001b[1;36m2\u001b[0m\u001b[1;33m,\u001b[0m \u001b[1;36m20\u001b[0m\u001b[1;33m,\u001b[0m \u001b[1;34m'2013-10-21'\u001b[0m\u001b[1;33m)\u001b[0m\u001b[1;33m\u001b[0m\u001b[0m\n\u001b[0m\u001b[0;32m      4\u001b[0m \u001b[0minsert_player\u001b[0m\u001b[1;33m(\u001b[0m\u001b[1;34m'Акинфеев'\u001b[0m\u001b[1;33m,\u001b[0m \u001b[1;36m31\u001b[0m\u001b[1;33m,\u001b[0m \u001b[1;36m1\u001b[0m\u001b[1;33m,\u001b[0m \u001b[1;36m10\u001b[0m\u001b[1;33m,\u001b[0m \u001b[1;34m'2004-04-28'\u001b[0m\u001b[1;33m)\u001b[0m\u001b[1;33m\u001b[0m\u001b[0m\n",
      "\u001b[1;32m<ipython-input-28-7dbcaaa4f197>\u001b[0m in \u001b[0;36minsert_player\u001b[1;34m(player_name, age, teamId, positionId, date)\u001b[0m\n\u001b[0;32m     39\u001b[0m     \u001b[0mcur\u001b[0m\u001b[1;33m.\u001b[0m\u001b[0mexecute\u001b[0m\u001b[1;33m(\u001b[0m\u001b[1;34m''' select coalesce(max(id)+1,1) as new_id from teams '''\u001b[0m\u001b[1;33m)\u001b[0m\u001b[1;33m\u001b[0m\u001b[0m\n\u001b[0;32m     40\u001b[0m     \u001b[0mnew_id\u001b[0m\u001b[1;33m=\u001b[0m\u001b[0mcur\u001b[0m\u001b[1;33m.\u001b[0m\u001b[0mfetchone\u001b[0m\u001b[1;33m(\u001b[0m\u001b[1;33m)\u001b[0m\u001b[1;33m[\u001b[0m\u001b[1;36m0\u001b[0m\u001b[1;33m]\u001b[0m\u001b[1;33m\u001b[0m\u001b[0m\n\u001b[1;32m---> 41\u001b[1;33m     \u001b[0mcur\u001b[0m\u001b[1;33m.\u001b[0m\u001b[0mexecute\u001b[0m\u001b[1;33m(\u001b[0m\u001b[1;34m''' insert into players(id, name, age, team_id, position_id, start_date) values (?,?,?,?,?,?)'''\u001b[0m\u001b[1;33m,\u001b[0m \u001b[1;33m(\u001b[0m\u001b[0mnew_id\u001b[0m\u001b[1;33m,\u001b[0m \u001b[0mplayer_name\u001b[0m\u001b[1;33m,\u001b[0m \u001b[0mage\u001b[0m\u001b[1;33m,\u001b[0m \u001b[0mteam_id\u001b[0m\u001b[1;33m,\u001b[0m \u001b[0mposition_id\u001b[0m\u001b[1;33m,\u001b[0m \u001b[0mdate\u001b[0m\u001b[1;33m)\u001b[0m\u001b[1;33m)\u001b[0m\u001b[1;33m\u001b[0m\u001b[0m\n\u001b[0m\u001b[0;32m     42\u001b[0m     \u001b[0mdb\u001b[0m\u001b[1;33m.\u001b[0m\u001b[0mcommit\u001b[0m\u001b[1;33m(\u001b[0m\u001b[1;33m)\u001b[0m\u001b[1;33m\u001b[0m\u001b[0m\n",
      "\u001b[1;31mIntegrityError\u001b[0m: UNIQUE constraint failed: players.id"
     ]
    }
   ],
   "source": [
    "insert_player('Пеле', 76, 3, 40, '1957-04-10')\n",
    "insert_player('Паулиньо', 28, 3, 30, '2011-09-15')\n",
    "insert_player('Велтман', 25, 2, 20, '2013-10-21')\n",
    "insert_player('Акинфеев', 31, 1, 10, '2004-04-28')"
   ]
  },
  {
   "cell_type": "code",
   "execution_count": 30,
   "metadata": {
    "collapsed": false
   },
   "outputs": [
    {
     "name": "stdout",
     "output_type": "stream",
     "text": [
      "Done.\n"
     ]
    },
    {
     "data": {
      "text/html": [
       "<table>\n",
       "    <tr>\n",
       "        <th>id</th>\n",
       "        <th>name</th>\n",
       "        <th>age</th>\n",
       "        <th>team_id</th>\n",
       "        <th>position_id</th>\n",
       "        <th>start_date</th>\n",
       "    </tr>\n",
       "    <tr>\n",
       "        <td>4</td>\n",
       "        <td>Паулиньо</td>\n",
       "        <td>28</td>\n",
       "        <td>3</td>\n",
       "        <td>30</td>\n",
       "        <td>2011-09-15</td>\n",
       "    </tr>\n",
       "</table>"
      ],
      "text/plain": [
       "[(4, 'Паулиньо', 28, 3, 30, '2011-09-15')]"
      ]
     },
     "execution_count": 30,
     "metadata": {},
     "output_type": "execute_result"
    }
   ],
   "source": [
    "%sql select * from players"
   ]
  },
  {
   "cell_type": "markdown",
   "metadata": {},
   "source": [
    "# Задание 7\n",
    "Написать функцию для перевода игрока в другую команду. Данная функция должна осуществить архивирование текущей записи в таблице игроков в таблицу players_archive с заполнение end_date - датой начала игры за новую команду - 1 день. А также осуществлять изменение поля в таблице Players. При возникновении ошибки должен осуществляться полный откат транзакции."
   ]
  },
  {
   "cell_type": "code",
   "execution_count": 33,
   "metadata": {
    "collapsed": false
   },
   "outputs": [],
   "source": [
    "def check_team(name1):\n",
    "    cur1=db.cursor()\n",
    "    cur1.execute(''' select id from teams where id=?''', (name1,))\n",
    "    try:\n",
    "        t_id=cur1.fetchone()[0]\n",
    "        return t_id\n",
    "    except TypeError:\n",
    "        print ('Нет такой команды')\n",
    "        return -1\n",
    "\n",
    "def update_players_arсhive_and_team(id_player, id_team, new_date):\n",
    "    try_team_id=check_team(id_team)\n",
    "    if try_team_id==-1:\n",
    "        return -1\n",
    "    cur=db.cursor()\n",
    "    cur.execute(''' select end_date from players_arсhive where player_id=?''', (id_player,))\n",
    "    EndDate=cur.fetchone()[0]\n",
    "    cur.execute(''' update players_arсhive set team_id=?, start_date=?, end_date=? where id=?''', (id_team, EndDate, new_date, id_player,))\n",
    "    cur.execute(''' update players set team_id=?, start_date=? where id=?''', (id_team, new_date, id_player,))\n",
    "db.commit()"
   ]
  },
  {
   "cell_type": "code",
   "execution_count": 32,
   "metadata": {
    "collapsed": false
   },
   "outputs": [
    {
     "ename": "TypeError",
     "evalue": "'NoneType' object is not subscriptable",
     "output_type": "error",
     "traceback": [
      "\u001b[1;31m---------------------------------------------------------------------------\u001b[0m",
      "\u001b[1;31mTypeError\u001b[0m                                 Traceback (most recent call last)",
      "\u001b[1;32m<ipython-input-32-fb151de9c223>\u001b[0m in \u001b[0;36m<module>\u001b[1;34m()\u001b[0m\n\u001b[1;32m----> 1\u001b[1;33m \u001b[0mupdate_players_arсhive_and_team\u001b[0m\u001b[1;33m(\u001b[0m\u001b[1;36m2\u001b[0m\u001b[1;33m,\u001b[0m \u001b[1;36m3\u001b[0m\u001b[1;33m,\u001b[0m \u001b[1;34m'2017-05-08'\u001b[0m\u001b[1;33m)\u001b[0m\u001b[1;33m\u001b[0m\u001b[0m\n\u001b[0m",
      "\u001b[1;32m<ipython-input-31-c55b28fedaef>\u001b[0m in \u001b[0;36mupdate_players_arсhive_and_team\u001b[1;34m(id_player, id_team, new_date)\u001b[0m\n\u001b[0;32m     15\u001b[0m     \u001b[0mcur\u001b[0m\u001b[1;33m=\u001b[0m\u001b[0mdb\u001b[0m\u001b[1;33m.\u001b[0m\u001b[0mcursor\u001b[0m\u001b[1;33m(\u001b[0m\u001b[1;33m)\u001b[0m\u001b[1;33m\u001b[0m\u001b[0m\n\u001b[0;32m     16\u001b[0m     \u001b[0mcur\u001b[0m\u001b[1;33m.\u001b[0m\u001b[0mexecute\u001b[0m\u001b[1;33m(\u001b[0m\u001b[1;34m''' select end_date from players_arсhive where player_id=?'''\u001b[0m\u001b[1;33m,\u001b[0m \u001b[1;33m(\u001b[0m\u001b[0mid_player\u001b[0m\u001b[1;33m,\u001b[0m\u001b[1;33m)\u001b[0m\u001b[1;33m)\u001b[0m\u001b[1;33m\u001b[0m\u001b[0m\n\u001b[1;32m---> 17\u001b[1;33m     \u001b[0mEndDate\u001b[0m\u001b[1;33m=\u001b[0m\u001b[0mcur\u001b[0m\u001b[1;33m.\u001b[0m\u001b[0mfetchone\u001b[0m\u001b[1;33m(\u001b[0m\u001b[1;33m)\u001b[0m\u001b[1;33m[\u001b[0m\u001b[1;36m0\u001b[0m\u001b[1;33m]\u001b[0m\u001b[1;33m\u001b[0m\u001b[0m\n\u001b[0m\u001b[0;32m     18\u001b[0m     \u001b[0mcur\u001b[0m\u001b[1;33m.\u001b[0m\u001b[0mexecute\u001b[0m\u001b[1;33m(\u001b[0m\u001b[1;34m''' update players_arсhive set team_id=?, start_date=?, end_date=? where id=?'''\u001b[0m\u001b[1;33m,\u001b[0m \u001b[1;33m(\u001b[0m\u001b[0mid_team\u001b[0m\u001b[1;33m,\u001b[0m \u001b[0mEndDate\u001b[0m\u001b[1;33m,\u001b[0m \u001b[0mnew_date\u001b[0m\u001b[1;33m,\u001b[0m \u001b[0mid_player\u001b[0m\u001b[1;33m,\u001b[0m\u001b[1;33m)\u001b[0m\u001b[1;33m)\u001b[0m\u001b[1;33m\u001b[0m\u001b[0m\n\u001b[0;32m     19\u001b[0m     \u001b[0mcur\u001b[0m\u001b[1;33m.\u001b[0m\u001b[0mexecute\u001b[0m\u001b[1;33m(\u001b[0m\u001b[1;34m''' update players set team_id=?, start_date=? where id=?'''\u001b[0m\u001b[1;33m,\u001b[0m \u001b[1;33m(\u001b[0m\u001b[0mid_team\u001b[0m\u001b[1;33m,\u001b[0m \u001b[0mnew_date\u001b[0m\u001b[1;33m,\u001b[0m \u001b[0mid_player\u001b[0m\u001b[1;33m,\u001b[0m\u001b[1;33m)\u001b[0m\u001b[1;33m)\u001b[0m\u001b[1;33m\u001b[0m\u001b[0m\n",
      "\u001b[1;31mTypeError\u001b[0m: 'NoneType' object is not subscriptable"
     ]
    }
   ],
   "source": [
    "update_players_arсhive_and_team(2, 3, '2017-05-08')"
   ]
  },
  {
   "cell_type": "code",
   "execution_count": null,
   "metadata": {
    "collapsed": true
   },
   "outputs": [],
   "source": []
  }
 ],
 "metadata": {
  "kernelspec": {
   "display_name": "Python 3",
   "language": "python",
   "name": "python3"
  },
  "language_info": {
   "codemirror_mode": {
    "name": "ipython",
    "version": 3
   },
   "file_extension": ".py",
   "mimetype": "text/x-python",
   "name": "python",
   "nbconvert_exporter": "python",
   "pygments_lexer": "ipython3",
   "version": "3.6.0"
  }
 },
 "nbformat": 4,
 "nbformat_minor": 2
}
